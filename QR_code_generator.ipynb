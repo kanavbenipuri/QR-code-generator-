{
  "nbformat": 4,
  "nbformat_minor": 0,
  "metadata": {
    "colab": {
      "provenance": [],
      "include_colab_link": true
    },
    "kernelspec": {
      "name": "python3",
      "display_name": "Python 3"
    },
    "language_info": {
      "name": "python"
    }
  },
  "cells": [
    {
      "cell_type": "markdown",
      "metadata": {
        "id": "view-in-github",
        "colab_type": "text"
      },
      "source": [
        "<a href=\"https://colab.research.google.com/github/kanavbenipuri/QR-code-generator-/blob/main/QR_code_generator.ipynb\" target=\"_parent\"><img src=\"https://colab.research.google.com/assets/colab-badge.svg\" alt=\"Open In Colab\"/></a>"
      ]
    },
    {
      "cell_type": "code",
      "execution_count": null,
      "metadata": {
        "id": "GV3tYINlbjYx"
      },
      "outputs": [],
      "source": [
        "!pip install pyqrcode pypng"
      ]
    },
    {
      "cell_type": "code",
      "source": [
        "# Import the necessary module!\n",
        "import pyqrcode\n",
        "\n",
        "data = \"https://github.com/kanavbenipuri\"\n",
        "\n",
        "# Create qrcode:\n",
        "# Now that we have the data with us, we can move forward and\n",
        "# make use of the package we just imported. Let's create an variable.\n",
        "qr = pyqrcode.create(data)\n",
        "\n",
        "# Save the qrcode in png format with proper scaling:\n",
        "# Now let's store it in .png format with proper scaling.\n",
        "qr.png(\"githubID.png\", scale= 5)"
      ],
      "metadata": {
        "id": "M9SkWl8Mblkl"
      },
      "execution_count": null,
      "outputs": []
    }
  ]
}